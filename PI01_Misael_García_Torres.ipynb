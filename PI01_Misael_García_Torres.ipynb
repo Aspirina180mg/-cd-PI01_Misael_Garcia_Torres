{
  "cells": [
    {
      "cell_type": "markdown",
      "metadata": {
        "id": "QxLgHtfSYqTi"
      },
      "source": [
        "**Data Enigeering**\n",
        "\n",
        "# [Repositorio](https://github.com/soyHenry/PI_ML_OPS/tree/PT?tab=readme-ov-file)\n",
        "\n",
        "# [Datasets](https://drive.google.com/drive/folders/1HqBG2-sUkz_R3h1dZU5F2uAzpRn7BSpj)\n",
        "\n",
        "# [ Link de entrega](https://docs.google.com/forms/d/e/1FAIpQLSenq20TbWCWsjScnyuawT4BMhXrvUEokGaqWx05GdppuzrLkA/viewform)\n"
      ]
    },
    {
      "cell_type": "markdown",
      "metadata": {
        "id": "d-hUlc7_V0dV"
      },
      "source": [
        "# **NOTA IMPORTANTE**\n",
        "\n",
        "durante este Jupyter Notebook se verá repetidamente la utilización del comando\n",
        "\n",
        "```\n",
        "del (variable o librería)\n",
        "```\n",
        "Este comando es utilizado para liberar memoria, ya que la limitación de memoria al momento de realizar este proyecto es de 12.7 GB, los cuales rápidamente se ven sobrepasados si no se realiza esta limpieza, por lo mismo algunas decisiones tomadas durante este proyecto consideran la limitación de memoria, las cuales serán claramente señaladas.\n",
        "\n"
      ]
    },
    {
      "cell_type": "markdown",
      "metadata": {
        "id": "VgEtqGk9RTzZ"
      },
      "source": [
        "# **Definición de autoguardado, montaje de Google Drive y navegación a carpeta correspondiente.**"
      ]
    },
    {
      "cell_type": "markdown",
      "metadata": {
        "id": "VGMrcfc5pvww"
      },
      "source": [
        "Se puede omitir este paso si se trabaja en local"
      ]
    },
    {
      "cell_type": "code",
      "execution_count": 1,
      "metadata": {
        "colab": {
          "base_uri": "https://localhost:8080/",
          "height": 72
        },
        "id": "qZfZcwqEO3FR",
        "outputId": "778e7c1c-60c5-41b8-8673-9b7f671b1613"
      },
      "outputs": [
        {
          "output_type": "display_data",
          "data": {
            "application/javascript": [
              "IPython.notebook.set_autosave_interval(60000)"
            ]
          },
          "metadata": {}
        },
        {
          "output_type": "stream",
          "name": "stdout",
          "text": [
            "Autosaving every 60 seconds\n",
            "Drive already mounted at /content/drive; to attempt to forcibly remount, call drive.mount(\"/content/drive\", force_remount=True).\n",
            "/content/drive/MyDrive/Github/PI01_Misael_Garcia_Torres\n"
          ]
        }
      ],
      "source": [
        "%autosave 60\n",
        "from google.colab import drive\n",
        "drive.mount('/content/drive')\n",
        "%cd /content/drive/MyDrive/Github/PI01_Misael_Garcia_Torres"
      ]
    },
    {
      "cell_type": "markdown",
      "metadata": {
        "id": "adYrdmAlozuJ"
      },
      "source": [
        "# **Preparación y carga de datos**"
      ]
    },
    {
      "cell_type": "markdown",
      "metadata": {
        "id": "BJY4K3WCMVoS"
      },
      "source": [
        "## **Importación de librerías y descarga de recursos necesarios para el proyecto:**"
      ]
    },
    {
      "cell_type": "markdown",
      "metadata": {
        "id": "_aEz_LRTp49S"
      },
      "source": [
        "\n",
        "*   `zipfile` para desempaquetar archivos .zip.\n",
        "*   `gzip` para procesar archivos .gz.\n",
        "*   `json` para procesar archivos .json.\n",
        "*   `pandas` para realisar análisis de datos.\n",
        "*   `numpy` para realisar cálculos matemáticos y estadísticos.\n",
        "*   `matplotlib` para realisar gráficos de los datos.\n",
        "*   `ast` para evaluar expresiones literales.\n",
        "*   `nltk`, `SentimentIntensityAnalyser` y descarga del `vader_lexicon` para realizar análisis de sentimientos.\n",
        "*   `WordCloud` para realizar nubes de palabras.\n",
        "*   `Counter` para realizar conteo de palabras.\n",
        "*   `cosine_similarity` para realizar la matriz de similitud del coseconteo de palabras.\n",
        "*   `seaborn` para realisar un heatmap."
      ]
    },
    {
      "cell_type": "code",
      "execution_count": 2,
      "metadata": {
        "colab": {
          "base_uri": "https://localhost:8080/"
        },
        "id": "OOob8b9bMQi-",
        "outputId": "9565618e-c28e-46a3-82a2-5993544d4032"
      },
      "outputs": [
        {
          "output_type": "stream",
          "name": "stderr",
          "text": [
            "[nltk_data] Downloading package vader_lexicon to /root/nltk_data...\n",
            "[nltk_data]   Package vader_lexicon is already up-to-date!\n"
          ]
        }
      ],
      "source": [
        "import zipfile, gzip, json, ast, nltk\n",
        "import pandas as pd\n",
        "import numpy as np\n",
        "import matplotlib.pyplot as plt\n",
        "from nltk.sentiment import SentimentIntensityAnalyzer\n",
        "nltk.download('vader_lexicon')\n",
        "from wordcloud import WordCloud\n",
        "from collections import Counter\n",
        "from sklearn.metrics.pairwise import cosine_similarity\n",
        "import seaborn as sns"
      ]
    },
    {
      "cell_type": "markdown",
      "metadata": {
        "id": "2syt6Wq-MqL7"
      },
      "source": [
        "## **Extracción de ficheros del archivo PI MLOps - STEAM.zip.**"
      ]
    },
    {
      "cell_type": "code",
      "execution_count": 3,
      "metadata": {
        "id": "XmOiBw3iM1G-"
      },
      "outputs": [],
      "source": [
        "zipfile.ZipFile('PI MLOps - STEAM.zip', 'r').extractall()\n",
        "del zipfile"
      ]
    },
    {
      "cell_type": "markdown",
      "metadata": {
        "id": "tlo9XL0yM6ST"
      },
      "source": [
        "## **Definición de funciones extraer_json y extraer_ast, funciones para la extracción de datos de los archivos .gz:**"
      ]
    },
    {
      "cell_type": "markdown",
      "metadata": {
        "id": "aPe5TT1Ip94q"
      },
      "source": [
        "*   `extraer_json()` hace uso de la función `json.loads()` para hacer la carga de datos al DataFrame.\n",
        "*   `extraer_ast()` hace uso de la función `ast_literal_eval()` para hacer la carga de datos al DataFrame.\n",
        "\n",
        "\n"
      ]
    },
    {
      "cell_type": "code",
      "execution_count": 4,
      "metadata": {
        "id": "F-t0oZwpM5ut"
      },
      "outputs": [],
      "source": [
        "def extraer_json(ruta):\n",
        "    with gzip.open(ruta, 'rb') as archivo:\n",
        "        datos = [json.loads(fila) for fila in archivo]\n",
        "    return pd.DataFrame(datos)\n",
        "\n",
        "def extraer_ast(ruta):\n",
        "    with gzip.open(ruta, 'rb') as archivo:\n",
        "        datos = [ast.literal_eval(fila.decode('utf-8')) for fila in archivo]\n",
        "    return pd.DataFrame(datos)"
      ]
    },
    {
      "cell_type": "markdown",
      "metadata": {
        "id": "Ww_lgjkPQg2I"
      },
      "source": [
        "## **Importación de datos a sus respectivos DataFrames.**"
      ]
    },
    {
      "cell_type": "code",
      "execution_count": null,
      "metadata": {
        "id": "HD3MfXc0S73E"
      },
      "outputs": [],
      "source": [
        "df_juegos = extraer_json('PI MLOps - STEAM/steam_games.json.gz')\n",
        "df_reviews = extraer_ast('PI MLOps - STEAM/user_reviews.json.gz')\n",
        "df_items = extraer_ast('PI MLOps - STEAM/users_items.json.gz')\n",
        "del extraer_json; del extraer_ast; del gzip; del json"
      ]
    },
    {
      "cell_type": "markdown",
      "metadata": {
        "id": "WKs6ccEbpP9J"
      },
      "source": [
        "# **EDA y ETL**"
      ]
    },
    {
      "cell_type": "markdown",
      "metadata": {
        "id": "FCwc6rkpdJF7"
      },
      "source": [
        "## **Limpieza de DataFrames.**"
      ]
    },
    {
      "cell_type": "markdown",
      "metadata": {
        "id": "csu4vEkErmhZ"
      },
      "source": [
        "*   Registros totalmente vacíos.\n",
        "*   Registros duplicados."
      ]
    },
    {
      "cell_type": "code",
      "execution_count": null,
      "metadata": {
        "id": "eaR5QJlfdHtS"
      },
      "outputs": [],
      "source": [
        "df_juegos.dropna(how=\"all\", inplace=True)\n",
        "df_reviews.dropna(how=\"all\", inplace=True)\n",
        "df_items.dropna(how=\"all\", inplace=True)\n",
        "df_juegos.drop_duplicates(subset=['title'], inplace=True)\n",
        "df_reviews.drop_duplicates(subset=['user_id'], inplace=True)\n",
        "df_items.drop_duplicates(subset=['user_id'], inplace=True)"
      ]
    },
    {
      "cell_type": "markdown",
      "metadata": {
        "id": "rnmCgR0FmIAa"
      },
      "source": [
        "## **Modificaciones aplicadas para manejo de errores:**"
      ]
    },
    {
      "cell_type": "markdown",
      "metadata": {
        "id": "gKwhuRjwre6_"
      },
      "source": [
        "*   Reemplazo de datos faltantes y erroneos en `df_juegos.publisher` por valor nulo (\"none\").\n",
        "*   Reemplazo de datos faltantes en `df_juegos.genres` por valor nulo (\"[ ]\").\n",
        "*   Reemplazo de datos faltantes en `df_juegos.app_name` por valor correspondiente en `df_juegos.title` y viceversa.\n",
        "*   Eliminación de columna `df_juegos.title`.\n",
        "*   Reemplazo de datos faltantes en `df_juegos.url` por valor nulo (\"\").\n",
        "*   Corrección de datos incorrectos en `df_juegos.release_date` al formato (año-mes-día).\n",
        "*   Reemplazo de Datos faltantes e inválidos en `df_juegos.release_date` por la fecha \"2222-02-22\".\n",
        "*   Reemplazo de datos faltantes en `df_juegos.tags` por valor nulo (\"[ ]\").\n",
        "*   Reemplazo de datos faltantes en `df_juegos.reviews_url` por el enlace a la página oficial de Steam (\"https://store.steampowered.com\").\n",
        "*   Reemplazo de datos faltantes en `df_juegos.specs` por valor nulo (\"[ ]\").\n",
        "*   Reemplazo de datos faltantes en `df_juegos.price` por \"-1\", mientras que \"Free\", \"Free to play\" y variaciones se identificaron con \"0\".\n",
        "*   Reemplazo de datos faltantes en `df_juegos.developer` por un valor nulo (\"[ ]\").\n",
        "*   Eliminción de registro si `df_juegos.app_name` y `df_juegos.title` no presentan datos.\n",
        "*   Conversión de los datos en `df_juegos.id` a valores numéricos\n",
        "*   Corrección de datos faltantes en `df_juegos.id`, creando nuevas \"id\" continuando la numeración máxima del registro.\n",
        "*   cambio de nombre de columna de `df_juegos.id` de \"id\" a \"item_id\"\n",
        "*   Unión y ordenamiento (alfabético) de `df_juegos.tags` y `df_juegos.genres`, se mantendrá sólo `df_juegos.tags`\n",
        "*   Ordenamiento de `df_juegos.specs` por orden alfabético\n",
        "<br><br>\n",
        "*   Desempaquetado de datos de `df_reviews.reviews`, creando las columnas `df_reviews.funny`, `df_reviews.posted`, `df_reviews.last_edited`, `df_reviews.item_id`, `df_reviews.helpful`, `df_reviews.recommend` y `df_reviews.review`, además, se elimina la columna original `df_reviews.reviews`.\n",
        "*   Reemplazo de datos de `df_reviews.funny` por sólo valores numéricos.\n",
        "*   Reemplazo de valores vacío en `df_reviews.last_edited` por \"not edited\".\n",
        "<br><br>\n",
        "*   Desempaquetado de datos de `df_items.items`, creando las columnas `df_items.item_id`, `df_items.item_name`, `df_items.playtime_forever` y `df_items.playtime_2weeks`, además, se elimina la columna original `df_items.items`."
      ]
    },
    {
      "cell_type": "code",
      "execution_count": null,
      "metadata": {
        "id": "trTzUolfmJbw"
      },
      "outputs": [],
      "source": [
        "# Manejo de datos faltantes\n",
        "df_juegos['publisher'].fillna('(none)', inplace=True)\n",
        "df_juegos['publisher'].replace('-', '(none)', inplace=True)\n",
        "df_juegos['publisher'].replace('---', '(none)', inplace=True)\n",
        "df_juegos['genres'].fillna('[]', inplace=True)\n",
        "df_juegos['app_name'].fillna(df_juegos['title'], inplace=True)\n",
        "df_juegos['title'].fillna(df_juegos['app_name'], inplace=True)\n",
        "df_juegos['url'].fillna('', inplace=True)\n",
        "df_juegos['release_date'].fillna('2222-02-22', inplace=True)\n",
        "df_juegos['tags'].fillna('', inplace=True)\n",
        "df_juegos['reviews_url'].fillna('https://store.steampowered.com', inplace=True)\n",
        "df_juegos['specs'].fillna('[]', inplace=True)\n",
        "df_juegos['price'].fillna(-1, inplace=True)\n",
        "df_juegos['price'].replace({'Free': 0, 'Free To Play': -0, 'Free Demo': 0, 'Free HITMAN™ Holiday Pack': 0, 'Free Mod': 0, 'Free Movie': 0, 'Free to Play': 0, 'Free to Try': 0, 'Free to Use': 0, 'Install Now': 0, 'Install Theme': 0, 'Play Now': -2, 'Play WARMACHINE: Tactics Demo': 0, 'Play for Free!': 0, 'Play the Demo': 0, 'Starting at $449.00': -2, 'Starting at $499.00': -2, 'Third-party': -2}, inplace=True)\n",
        "df_juegos['developer'].fillna('[]', inplace=True)\n",
        "\n",
        "# Eliminación de registro en ausencia de app_name y title\n",
        "df_juegos.dropna(subset=['app_name', 'title'], how='all', inplace=True)\n",
        "\n",
        "# conversión de \"id\" a valores numéricos\n",
        "df_juegos['id'] = pd.to_numeric(df_juegos['id'], errors='coerce')\n",
        "\n",
        "# Generación de nuevos \"id\"\n",
        "id_maxima = df_juegos['id'].max()\n",
        "sin_id = df_juegos[df_juegos['id'].isna()]\n",
        "nuevas_id = range(int(id_maxima) + 1, int(id_maxima) + 1 + len(sin_id))\n",
        "df_juegos.loc[df_juegos['id'].isna(), 'id'] = nuevas_id\n",
        "\n",
        "# Cambio de nombre de columna \"id\"\n",
        "df_juegos.rename(columns={'id': 'item_id'}, inplace=True)\n",
        "\n",
        "# Union y ordenamiento de genres y tags\n",
        "df_juegos['genres'] = df_juegos['genres'].apply(sorted).apply(str)\n",
        "df_juegos['tags'] = df_juegos['tags'].apply(sorted).apply(str)\n",
        "df_juegos['tags'] = df_juegos[['genres', 'tags']].agg(' '.join, axis=1)\n",
        "df_juegos.drop(columns=['genres'], inplace=True)\n",
        "\n",
        "# Ordenamiento de specs\n",
        "df_juegos['specs'] = df_juegos['specs'].apply(sorted).apply(str)\n",
        "\n",
        "# Desempaquetado de columna reviews\n",
        "datos = []\n",
        "for indice, fila in df_reviews.iterrows():\n",
        "    id = fila['user_id']\n",
        "    url = fila['user_url']\n",
        "    datos.extend([{'user_id': id, 'user_url': url, **review} for review in fila['reviews']])\n",
        "df_reviews = pd.DataFrame(datos)\n",
        "\n",
        "# Manejo de datos de la columna funny a valores numéricos\n",
        "df_reviews['funny'] = df_reviews['funny'].replace('', '0')\n",
        "df_reviews['funny'] = df_reviews['funny'].str.extract('(\\d+)').astype(int)\n",
        "\n",
        "# Manejo de datos faltantes\n",
        "df_reviews['last_edited'] = df_reviews['last_edited'].replace('', 'Not edited')\n",
        "\n",
        "# Desempaquetado de columna items\n",
        "data = []\n",
        "for indice, fila in df_items.iterrows():\n",
        "    id = fila['user_id']\n",
        "    url = fila['user_url']\n",
        "    if 'items' in fila and isinstance(fila['items'], list):\n",
        "        data.extend([{'user_id': id, 'user_url': url, **item} for item in fila['items']])\n",
        "df_items = pd.DataFrame(data)\n",
        "\n",
        "del data; del datos; del fila; del id; del id_maxima; del indice; del nuevas_id; del sin_id; del url"
      ]
    },
    {
      "cell_type": "markdown",
      "metadata": {
        "id": "8ZYcqTfaYINJ"
      },
      "source": [
        "### **Revisión de tipo de datos por columna y conversión de tipo de datos**"
      ]
    },
    {
      "cell_type": "code",
      "execution_count": null,
      "metadata": {
        "id": "md_jAyYSYIeb"
      },
      "outputs": [],
      "source": [
        "df_juegos.info()"
      ]
    },
    {
      "cell_type": "code",
      "execution_count": null,
      "metadata": {
        "id": "bt5xiYbpYoW0"
      },
      "outputs": [],
      "source": [
        "df_reviews.info()"
      ]
    },
    {
      "cell_type": "code",
      "execution_count": null,
      "metadata": {
        "id": "hUtsz56zYt99"
      },
      "outputs": [],
      "source": [
        "df_items.info()"
      ]
    },
    {
      "cell_type": "markdown",
      "metadata": {
        "id": "HzyhJXX4ZKDt"
      },
      "source": [
        "**Según lo visualizado, se harán las siguientes conversiones a los tipos de datos:**\n",
        "*   `df_reviews.item_id` será cambiado de object a integer\n",
        "*   `df_reviews.recommend` será cambiado de object a booleano\n",
        "*   `df_items.item_id` será cambiado de object a integer"
      ]
    },
    {
      "cell_type": "code",
      "execution_count": null,
      "metadata": {
        "id": "Svs7cl97ZKwx"
      },
      "outputs": [],
      "source": [
        "df_reviews['item_id'] = df_reviews['item_id'].astype(int)\n",
        "df_reviews['recommend'] = df_reviews['recommend'].astype(bool)\n",
        "df_items['item_id'] = df_items['item_id'].astype(int)"
      ]
    },
    {
      "cell_type": "markdown",
      "metadata": {
        "id": "mdoa6OCPKv49"
      },
      "source": [
        "### **Según necesidades del desarrollo de la api, se crearán df sólo con las columnas necesarias para cumplir el requerimiento**"
      ]
    },
    {
      "cell_type": "markdown",
      "metadata": {
        "id": "IbwD5jXTs0_m"
      },
      "source": [
        "df_juegos\n",
        "*   app_name\n",
        "*   release_date\n",
        "*   tags\n",
        "*   id\n",
        "\n",
        "df_items\n",
        "*   user_id\n",
        "*   item_id\n",
        "*   playrime_forever\n",
        "\n",
        "df_reviews\n",
        "*   user_id\n",
        "*   item_id\n",
        "*   sentiment_analysis"
      ]
    },
    {
      "cell_type": "code",
      "execution_count": null,
      "metadata": {
        "id": "DwgrCFyLKwLP"
      },
      "outputs": [],
      "source": [
        "df_juegos = df_juegos.drop('publisher', axis=1)\n",
        "df_juegos = df_juegos.drop('title', axis=1)\n",
        "df_juegos = df_juegos.drop('url', axis=1)\n",
        "df_juegos = df_juegos.drop('reviews_url', axis=1)\n",
        "df_juegos = df_juegos.drop('specs', axis=1)\n",
        "df_juegos = df_juegos.drop('price', axis=1)\n",
        "df_juegos = df_juegos.drop('early_access', axis=1)\n",
        "df_juegos = df_juegos.drop('developer', axis=1)\n",
        "df_items = df_items.drop('user_url', axis=1)\n",
        "df_items = df_items.drop('item_name', axis=1)\n",
        "df_items = df_items.drop('playtime_2weeks', axis=1)\n",
        "df_reviews = df_reviews.drop('user_url', axis=1)\n",
        "df_reviews = df_reviews.drop('funny', axis=1)\n",
        "df_reviews = df_reviews.drop('posted', axis=1)\n",
        "df_reviews = df_reviews.drop('last_edited', axis=1)\n",
        "df_reviews = df_reviews.drop('helpful', axis=1)"
      ]
    },
    {
      "cell_type": "markdown",
      "metadata": {
        "id": "dPUFfOXFLIy6"
      },
      "source": [
        "## **Creación de dataframe para API**"
      ]
    },
    {
      "cell_type": "markdown",
      "metadata": {
        "id": "uHKQ_dd_rqQO"
      },
      "source": [
        "Se creará un solo dataframe para ser procesado y crear los diccionarios necesarios para la api, para esto se analizaron los requisitos para poder cumplir con las solicitudes de cada función y se detectó la necesidad de las siguientes transformaciones:\n",
        "*   Conversión de `df_juegos.release_date` a datetime.\n",
        "*   Eliminación  de filas sin datos en `df_juegos.release_date`.\n",
        "*   Extracción de año y almacenamiento en misma columna `df_juegos.release_date`.\n",
        "*   Conversión de `df_juegos.release_date` de float a integer."
      ]
    },
    {
      "cell_type": "code",
      "execution_count": null,
      "metadata": {
        "id": "LQkfBgpgLIGG"
      },
      "outputs": [],
      "source": [
        "df_juegos['release_date'] = pd.to_datetime(df_juegos['release_date'], format='%Y-%m-%d', errors='coerce')\n",
        "df_juegos.dropna(subset=['release_date'], inplace=True)\n",
        "df_juegos.loc[:, 'release_date'] = df_juegos['release_date'].dt.year\n",
        "df_juegos.loc[:, 'release_date'] = df_juegos['release_date'].astype(int)"
      ]
    },
    {
      "cell_type": "markdown",
      "metadata": {
        "id": "v2zwOQK2thXf"
      },
      "source": [
        "## **Análisis de Sentimiento**"
      ]
    },
    {
      "cell_type": "markdown",
      "metadata": {
        "id": "RJU-KeqpladY"
      },
      "source": [
        "### **Creación de la columna \"sentiment_analysis\" en \"df_reviews\"**"
      ]
    },
    {
      "cell_type": "code",
      "execution_count": null,
      "metadata": {
        "id": "ZBIebpZ9AG3m"
      },
      "outputs": [],
      "source": [
        "df_reviews['sentiment_analysis'] = df_reviews['review'].apply(lambda x: SentimentIntensityAnalyzer().polarity_scores(x)['compound'])\n",
        "del SentimentIntensityAnalyzer; del nltk"
      ]
    },
    {
      "cell_type": "markdown",
      "metadata": {
        "id": "NQoHpyCmqwZX"
      },
      "source": [
        "### **Exploración de datos estadísticos de `df_reviews.sentiment_analysis`**"
      ]
    },
    {
      "cell_type": "markdown",
      "metadata": {
        "id": "meQ12PwQt-7e"
      },
      "source": [
        "*   Máximo\n",
        "*   Mínimo\n",
        "*   Promedio\n",
        "*   Desviación estándar\n",
        "*   Varianza"
      ]
    },
    {
      "cell_type": "code",
      "execution_count": null,
      "metadata": {
        "id": "JX3H1KfrrlA5"
      },
      "outputs": [],
      "source": [
        "print(\"Valor Máximo:\", df_reviews['sentiment_analysis'].max())\n",
        "print(\"Valor Mínimo:\", df_reviews['sentiment_analysis'].min())\n",
        "print(\"Valor Mediana:\", df_reviews['sentiment_analysis'].median())\n",
        "print(\"Valor Promedio:\", df_reviews['sentiment_analysis'].mean())\n",
        "print(\"Desviación Estándar:\", df_reviews['sentiment_analysis'].std())\n",
        "print(\"Variabilidad:\", np.ptp(df_reviews['sentiment_analysis']))"
      ]
    },
    {
      "cell_type": "markdown",
      "metadata": {
        "id": "A0MuC5o5tnFH"
      },
      "source": [
        "**Se observa que los datos están más alineados hacia el lado positivo, esto considerando que el valor máximo es 1 y el valor mínimo es -1, por lo que el punto medio sería 0, y la mediana tiene un valor por sobre el punto medio (0.4588), y el promedio también tiene un valor superior a este (0.345), la varianza es igual al rango de los datos (2), por lo que la dispersión es notable.**\n",
        "\n",
        "*   Se realizará un histograma segmentado en 27 bins, para poder identificar patrones y visualizar la distribución más facilmente.\n",
        "*   Se realizará un diagrama de caja y bigotes para visualizar la dispersión de los datos."
      ]
    },
    {
      "cell_type": "code",
      "execution_count": null,
      "metadata": {
        "id": "_lf9CpHqxpcv"
      },
      "outputs": [],
      "source": [
        "# Histograma\n",
        "plt.hist(df_reviews['sentiment_analysis'], bins=27, color='green', edgecolor='black')\n",
        "plt.xlabel('Analisis de sentimiento')\n",
        "plt.ylabel('Frecuencia')\n",
        "plt.title('Histograma de Analisis de sentimiento')\n",
        "plt.show()\n",
        "\n",
        "# Diagrama de Caja y bigotes\n",
        "plt.boxplot(df_reviews['sentiment_analysis'])\n",
        "plt.ylabel('Analisis de sentimiento')\n",
        "plt.title('Diagrama de Caja y Bigotes de Analisis de sentimiento')\n",
        "plt.show()"
      ]
    },
    {
      "cell_type": "markdown",
      "metadata": {
        "id": "fWCGBBfj0hcR"
      },
      "source": [
        "Desde el histograma es notable que existen 3 divisiones identificables, los valores inferiores a -0.25, los valores superiores a 0.11 y los valores entre estos 2 números.\n",
        "Dado lo anterior, se clasificarán los reviews de la siguiente manera:\n",
        "*   Review Positiva: Valores superiores a 0.11 , se les asignará un valor de 2\n",
        "*   Review Neutral: Valores menores o iguales a 0.11 y mayores o iguales a -0.25, se les asignará un valor de 1\n",
        "*   Review Negativa: Valores menores a -0.25, se les asignará un valor de 0.\n",
        "\n",
        "Desde el diagrama de caja y bigotes se puede concluir rápidamente que menos del 25% de las reseñas serían negativas, mientras que más del 50% de ellas está en la categoría de positivas."
      ]
    },
    {
      "cell_type": "code",
      "execution_count": null,
      "metadata": {
        "id": "9qDR8y0Bxv87"
      },
      "outputs": [],
      "source": [
        "condiciones = [df_reviews['sentiment_analysis'] > 0.11,\n",
        "              df_reviews['sentiment_analysis'] < -0.25]\n",
        "valores = [2, 0]\n",
        "df_reviews['sentiment_analysis'] = np.select(condiciones, valores, default=1)\n",
        "del valores; del condiciones"
      ]
    },
    {
      "cell_type": "markdown",
      "metadata": {
        "id": "hd76Zq3Xn3ri"
      },
      "source": [
        "### **Eliminación de la columna \"review\" en \"df_reviews\"**"
      ]
    },
    {
      "cell_type": "code",
      "execution_count": null,
      "metadata": {
        "id": "Qlt1BtrIn3To"
      },
      "outputs": [],
      "source": [
        "df_reviews.drop('review', axis=1, inplace=True)"
      ]
    },
    {
      "cell_type": "markdown",
      "metadata": {
        "id": "YTd94GvEiaWH"
      },
      "source": [
        "## **Transformaciones necesarias para la creación de dataframe para API-Render**\n"
      ]
    },
    {
      "cell_type": "markdown",
      "metadata": {
        "id": "JXOwXzNCuXoi"
      },
      "source": [
        "Las siguientes transformaciones tendrán como objetivo disminuir el tamaño del dataset para poder ser procesado y cargado en la API de Render, por lo que algunas decisiones serán tomadas con el propósito principal de disminuir el tamaño de los dataframes."
      ]
    },
    {
      "cell_type": "markdown",
      "metadata": {
        "id": "JrHOAOMDNr-E"
      },
      "source": [
        "###desempaquetado de df_juegos.tags a df_juegos.tag"
      ]
    },
    {
      "cell_type": "code",
      "execution_count": null,
      "metadata": {
        "id": "XLVCmFWJLlO0"
      },
      "outputs": [],
      "source": [
        "df_juegos['tags'] = df_juegos['tags'].apply(lambda x: x.strip(\"[]\").split(\", \"))\n",
        "df_juegos = df_juegos.explode('tags')\n",
        "df_juegos.rename(columns={'tags': 'tag'}, inplace=True)\n",
        "df_juegos['tag'] = df_juegos['tag'].str.replace(\"'\", \"\")\n",
        "df_juegos['tag'].replace(r'^.*?\\[', '', regex=True, inplace=True)\n",
        "df_juegos = df_juegos.drop_duplicates()\n",
        "df_juegos['tag'] = df_juegos['tag'].str.lower()\n",
        "del ast"
      ]
    },
    {
      "cell_type": "markdown",
      "metadata": {
        "id": "tXFtLqT5Nmrx"
      },
      "source": [
        "## **Reducción de tamaño de dataframes por limitaciones de memoria**"
      ]
    },
    {
      "cell_type": "markdown",
      "metadata": {
        "id": "tHPzdsujNz9S"
      },
      "source": [
        "Los siguientes pasos tienen la finalidad de reducir el tamaño de los dataframes para disminuir el consumo de memoria final."
      ]
    },
    {
      "cell_type": "markdown",
      "metadata": {
        "id": "IHs37EXMOI1W"
      },
      "source": [
        "### **Se verificará la cantidad de géneros existentes en el dataset, con el objetivo de seleccionar los más utilizados**"
      ]
    },
    {
      "cell_type": "code",
      "execution_count": null,
      "metadata": {
        "id": "9IUjbrrZNnG1"
      },
      "outputs": [],
      "source": [
        "print(\"Número de elementos distintos en df_juegos.tag:\", df_juegos['tag'].nunique())"
      ]
    },
    {
      "cell_type": "markdown",
      "metadata": {
        "id": "bd6_sDw27KWP"
      },
      "source": [
        "### **nube depalabras**"
      ]
    },
    {
      "cell_type": "markdown",
      "metadata": {
        "id": "9witJQnoQ78I"
      },
      "source": [
        "Se generará una nube de plabras para visualizar de forma rápida la diferencia relativa de frecuencia de los distintos géneros"
      ]
    },
    {
      "cell_type": "code",
      "execution_count": null,
      "metadata": {
        "id": "BLnZKgZjLqbd"
      },
      "outputs": [],
      "source": [
        "tags = ' '.join(df_juegos['tag'])\n",
        "nube_palabras = WordCloud(width=800, height=400, background_color='white').generate(tags)\n",
        "plt.figure(figsize=(10, 6))\n",
        "plt.imshow(nube_palabras, interpolation='bilinear')\n",
        "plt.axis('off')\n",
        "plt.show()\n",
        "del nube_palabras; del WordCloud; del tags;"
      ]
    },
    {
      "cell_type": "markdown",
      "metadata": {
        "id": "rk_uXkx1RSSc"
      },
      "source": [
        "### **Listado de frecuencia de palabras**"
      ]
    },
    {
      "cell_type": "markdown",
      "metadata": {
        "id": "Zt10OduARX2a"
      },
      "source": [
        "Se usará un listado de frecuencia de plabras para poder observar con más exactitud los valores de la nube de palabras."
      ]
    },
    {
      "cell_type": "code",
      "execution_count": null,
      "metadata": {
        "id": "IglWEc48gKrX"
      },
      "outputs": [],
      "source": [
        "tags_texto = ' '.join(df_juegos['tag'])\n",
        "tags = tags_texto.split()\n",
        "frecuencias = Counter(tags)\n",
        "frecuencias = sorted(frecuencias.items(), key=lambda x: x[1], reverse=True)\n",
        "cantidad_palabras = 350\n",
        "for i, (palabra, frecuencia) in enumerate(frecuencias):\n",
        "    if i >= cantidad_palabras:\n",
        "        break\n",
        "    print(f'{palabra}: {frecuencia}')\n",
        "\n",
        "del cantidad_palabras; del frecuencias; del tags\n",
        "del tags_texto; del frecuencia; del i; del palabra"
      ]
    },
    {
      "cell_type": "markdown",
      "metadata": {
        "id": "W6oPj6vdhpYy"
      },
      "source": [
        "Aplicando la **ley de pareto** (80/20), se buscará el punto en que se cumple con el 80% del total de acumulación y se contarán los géneros hasta cumplir con éste porcentaje."
      ]
    },
    {
      "cell_type": "code",
      "execution_count": null,
      "metadata": {
        "id": "Rt5g5MNehnS3"
      },
      "outputs": [],
      "source": [
        "tags_texto = ' '.join(df_juegos['tag'])\n",
        "tags = tags_texto.split()\n",
        "frecuencias = Counter(tags)\n",
        "frecuencias = sorted(frecuencias.items(), key=lambda x: x[1], reverse=True)\n",
        "frecuencia_total = sum(freq[1] for freq in frecuencias)\n",
        "frecuencia_buscada = frecuencia_total * 0.8\n",
        "frecuencia_acumulada = 0\n",
        "palabra_buscada = None\n",
        "palabras_en_rango = []\n",
        "for palabra, frecuencia in frecuencias:\n",
        "    frecuencia_acumulada += frecuencia\n",
        "    if frecuencia_acumulada >= frecuencia_buscada:\n",
        "        palabra_buscada = palabra\n",
        "        break\n",
        "    palabras_en_rango.append(palabra)\n",
        "\n",
        "print(f'La palabra en la que se alcanza el 80% del total de frecuencias acumuladas es: {palabra_buscada}')\n",
        "print(f'Número de palabras dentro del 80% del total de frecuencias acumuladas: {len(palabras_en_rango)}')\n",
        "del frecuencia_acumulada; del frecuencia; del frecuencias; del tags; del tags_texto;\n",
        "del frecuencia_buscada; del palabra_buscada; del frecuencia_total; del palabra;"
      ]
    },
    {
      "cell_type": "markdown",
      "metadata": {
        "id": "Iw-nh0hxvLPO"
      },
      "source": [
        "### **Eliminación de géneros de los dataframes**"
      ]
    },
    {
      "cell_type": "markdown",
      "metadata": {
        "id": "1J8Hp20wftzQ"
      },
      "source": [
        "Según lo observado en el análisis anterior, se deberían dejar los 82 géneros más frecuentes, pero, por limitaciones de memoria, sólo se trabajará con los 20 más frecuentes, se dejarará comentado en el código el cambio que hay que hacer para respetar el resultado del análisis previo"
      ]
    },
    {
      "cell_type": "code",
      "execution_count": null,
      "metadata": {
        "id": "tqUnaFIXkBck"
      },
      "outputs": [],
      "source": [
        "tags_texto = ' '.join(df_juegos['tag'])\n",
        "tags = tags_texto.split()\n",
        "frecuencia_palabras = Counter(tags)\n",
        "frecuencia_palabras = sorted(frecuencia_palabras.items(), key=lambda x: x[1], reverse=True)\n",
        "frecuencia_total = sum(freq[1] for freq in frecuencia_palabras)\n",
        "frecuencia_objetivo = frecuencia_total * 0.8\n",
        "frecuencia_acumulada = 0\n",
        "palabra_objetivo = None\n",
        "for palabra, frecuencia in frecuencia_palabras:\n",
        "    frecuencia_acumulada += frecuencia\n",
        "    if frecuencia_acumulada >= frecuencia_objetivo:\n",
        "        palabra_objetivo = palabra\n",
        "        break\n",
        "'''para cambiar la cantidad de palabras, hay que cambiar el valor numérico de la\n",
        "siguiente línea de código, en este caso, cambiar 20 por 82'''\n",
        "juegos_en_objetivo = set([palabra for palabra, _ in frecuencia_palabras[:20]])\n",
        "df_juegos = df_juegos[df_juegos['tag'].isin(juegos_en_objetivo)]\n",
        "del Counter; del frecuencia_acumulada; del frecuencia; del frecuencia_palabras; del tags;\n",
        "del tags_texto; del frecuencia_objetivo; del palabra_objetivo; del juegos_en_objetivo;\n",
        "del frecuencia_total; del palabra"
      ]
    },
    {
      "cell_type": "markdown",
      "metadata": {
        "id": "9QoQZM-9yWHs"
      },
      "source": [
        "**Se replicará la limpieza en los demás dataframes igualmente.**"
      ]
    },
    {
      "cell_type": "code",
      "execution_count": null,
      "metadata": {
        "id": "i7u_u3OSlD2C"
      },
      "outputs": [],
      "source": [
        "juegos_en_objetivo = set(df_juegos['item_id'])\n",
        "df_reviews = df_reviews[df_reviews['item_id'].isin(juegos_en_objetivo)]\n",
        "df_items = df_items[df_items['item_id'].isin(juegos_en_objetivo)]\n",
        "del juegos_en_objetivo"
      ]
    },
    {
      "cell_type": "markdown",
      "metadata": {
        "id": "S2RJFwToU1wE"
      },
      "source": [
        "### **Análisis de correlaciones monovariado**"
      ]
    },
    {
      "cell_type": "code",
      "execution_count": null,
      "metadata": {
        "id": "HIa7xSm7V1wU"
      },
      "outputs": [],
      "source": [
        "frecuencia_genero = df_juegos['tag'].value_counts().head(10)\n",
        "recom_genero = df_reviews.merge(df_juegos[['tag', 'item_id']], on='item_id', how='inner') \\\n",
        "                                    .groupby('tag')['recommend'].mean() \\\n",
        "                                    .sort_values(ascending=False) \\\n",
        "                                    .reindex(frecuencia_genero.index).head(10)\n",
        "tiempo_de_juego = df_items.merge(df_juegos[['tag', 'item_id']], on='item_id', how='inner') \\\n",
        "                             .groupby('tag')['playtime_forever'].sum() \\\n",
        "                             .reindex(frecuencia_genero.index).head(10)\n",
        "tiempo_de_juego = tiempo_de_juego.sort_values(ascending=False).head(10)\n",
        "print(\"Frecuencia de géneros:\")\n",
        "print(frecuencia_genero)\n",
        "print(\"\\nRecomendación promedio por género:\")\n",
        "print(recom_genero)\n",
        "print(\"\\nTiempo jugado por género:\")\n",
        "print(tiempo_de_juego)\n",
        "\n",
        "del frecuencia_genero; del tiempo_de_juego; del recom_genero"
      ]
    },
    {
      "cell_type": "markdown",
      "metadata": {
        "id": "6dfpqvzsAnoj"
      },
      "source": [
        "De la frecuencia de géneros no se puede concluir nada nuevo, ya que es lo mismo que ya se ha visualizado previamente, sólo mencionar que el top 5 de géneros más frecuentes sería el siguiente:\n",
        "\"indie\",\"action\",\"adventure\",\"casual\" y \"strategy\"\n",
        "de lo que se puede esperar que sean los géneros más prevalentes en las recomendaciones.\n",
        "\n",
        "En cuanto a la recomendación promedio por género, aunque a simple vista se observa que todos los géneros son altamente recomendados, se puede observar también que los géneros más frecuentes no son claramente los más recomendados.\n",
        "\n",
        "Finalmente, el tiempo jugado por género se puede analizar un poco más en profundidad, el género de \"action\" se ve como el género N° 1 con más tiempo de juego, esto tiene sentido ya que una gran parte de los juegos Multijugador Online entran en esta categoría, y son el tipo de producto que pueden ser rejugados más veces, lo que se correlaciona con que los siguientes puestos con mayor tiempo jugado son las categorías \"multiplayer\" y \"co-op\", es llamativo que luego continúa \"singleplayer\", todos con un tiempo de juego relativamente similar, luego pasamos a \"adventure\" y \"strategy\", es de esperar que los juegos más recomendados sean juegos de acción y aventura, específicamente que posean un fuerte componente multijugador cooperativo, y preferiblemente que tengan un modo historia en singleplayer o cooperativo."
      ]
    },
    {
      "cell_type": "markdown",
      "metadata": {
        "id": "4OMNFsiRU9dO"
      },
      "source": [
        "### **Análisis de correlaciones Bivariado**"
      ]
    },
    {
      "cell_type": "code",
      "execution_count": null,
      "metadata": {
        "id": "rv2l3dDPSmn1"
      },
      "outputs": [],
      "source": [
        "tiempo_promedio = df_items.groupby('item_id')['playtime_forever'].mean()\n",
        "df_juegos['average_playtime'] = df_juegos['item_id'].map(tiempo_promedio)\n",
        "lista_correlacion = []\n",
        "for genero, grupo in df_juegos.groupby('tag'):\n",
        "    correlacion = grupo['average_playtime'].corr(pd.Series(grupo.index, index=grupo.index))\n",
        "    lista_correlacion.append((genero, correlacion))\n",
        "df_correlacion = pd.DataFrame(lista_correlacion, columns=['genero', 'correlacion'])\n",
        "df_correlacion.set_index('genero', inplace=True)\n",
        "plt.figure(figsize=(10, 8))\n",
        "sns.heatmap(df_correlacion, annot=True, cmap='coolwarm', fmt=\".2f\")\n",
        "plt.title(\"Correlación bivariada entre etiquetas de juegos y tiempo de juego promedio\")\n",
        "plt.xlabel(\"Variables\")\n",
        "plt.ylabel(\"Variables\")\n",
        "plt.show()\n",
        "\n",
        "del plt; del tiempo_promedio; del lista_correlacion; del df_correlacion\n"
      ]
    },
    {
      "cell_type": "markdown",
      "metadata": {
        "id": "IlyEIB7c9MMX"
      },
      "source": [
        "Se visualiza una relación positiva leve entre strategy y multiplayer, por lo que pueden tender a aumentar juntos, pero la relación sigue siendo debil.\n",
        "Además, se visualiza una tendencia a la relación negativa debil en general, por lo que si aumenta alguna de las categorías, en general, las demás disminuyen."
      ]
    },
    {
      "cell_type": "markdown",
      "metadata": {
        "id": "B3aM3xP6U_iU"
      },
      "source": [
        "### **Análisis de correlaciones multivariado**"
      ]
    },
    {
      "cell_type": "code",
      "execution_count": null,
      "metadata": {
        "id": "1xAm4PQWW3HK"
      },
      "outputs": [],
      "source": [
        "matriz_juegos = df_juegos.corr(numeric_only=True)\n",
        "matriz_reviews = df_reviews.corr(numeric_only=True)\n",
        "matriz_items = df_items.corr(numeric_only=True)\n",
        "matriz_combinada = pd.concat([matriz_juegos, matriz_reviews, matriz_items], axis=1)\n",
        "print(\"Matriz de correlación combinada:\")\n",
        "print(matriz_combinada)\n",
        "\n",
        "del matriz_juegos; del matriz_reviews; del matriz_items; del matriz_combinada"
      ]
    },
    {
      "cell_type": "markdown",
      "metadata": {
        "id": "lM34T6fgYIBY"
      },
      "source": [
        "*   Se observa una correlación débil negativa (-0.07592) entre el item_id y el playtime_forever, lo cual es lógico, si un juego es más nuevo, se ha jugado menos tiempo.\n",
        "*   Se observa una correlación negativa no tan débil (-0.128122) entre item_id y recommend, lo que indica que los juegos más nuevos se han recomendado menos que los juegos más antiguos, eso tiende a ser un efecto natural, ya que los juegos más antiguos han tenido más tiempo para ser recomendados, pero aplicar márketing u otras estrategias para cambiar esto no estaría mal, ya que los juegos más nuevos suelen tender a costar más dinero que un juego antiguo."
      ]
    },
    {
      "cell_type": "markdown",
      "metadata": {
        "id": "AMvnjCucAr7z"
      },
      "source": [
        "### **Eliminación de variables restantes**"
      ]
    },
    {
      "cell_type": "code",
      "execution_count": null,
      "metadata": {
        "id": "qxC0zDJO_vim"
      },
      "outputs": [],
      "source": [
        "del genero; del grupo; del palabras_en_rango; del sns"
      ]
    },
    {
      "cell_type": "markdown",
      "metadata": {
        "id": "TqDMd1B0YLxb"
      },
      "source": [
        "## **Creación de dataframes para la API**"
      ]
    },
    {
      "cell_type": "markdown",
      "metadata": {
        "id": "HXphVOL6YoN6"
      },
      "source": [
        "### **df_PlayTimeGenre**"
      ]
    },
    {
      "cell_type": "markdown",
      "metadata": {
        "id": "yn_j1iQuZWrg"
      },
      "source": [
        "Se crea un dataframe con los siguientes datos:\n",
        "*   genero (tag)\n",
        "*   año (release_date)"
      ]
    },
    {
      "cell_type": "code",
      "execution_count": null,
      "metadata": {
        "id": "zykSME3iYJwS"
      },
      "outputs": [],
      "source": [
        "generos = df_juegos['tag'].unique()\n",
        "resultados = pd.DataFrame(columns=['genero', 'año_con_mas_tiempo_jugado'])\n",
        "for genero in generos:\n",
        "    df_genero = df_juegos[df_juegos['tag'] == genero]\n",
        "    df_tiempo_jugado = df_genero.groupby('release_date')['average_playtime'].sum().reset_index()\n",
        "    idx_max_tiempo_jugado = df_tiempo_jugado['average_playtime'].idxmax()\n",
        "    año_max_tiempo_jugado = df_tiempo_jugado.loc[idx_max_tiempo_jugado, 'release_date']\n",
        "    df_temporal = pd.DataFrame({'genero': [genero], 'año_con_mas_tiempo_jugado': [año_max_tiempo_jugado]})\n",
        "    resultados = pd.concat([resultados, df_temporal], ignore_index=True)\n",
        "df_PlayTimeGenre = resultados"
      ]
    },
    {
      "cell_type": "markdown",
      "metadata": {
        "id": "rqLesdXuY1a9"
      },
      "source": [
        "### **df_UserForGenre**"
      ]
    },
    {
      "cell_type": "markdown",
      "metadata": {
        "id": "HZZ9KXCXaHzB"
      },
      "source": [
        "Se crea un dataframe con los siguientes datos:\n",
        "*   genero (tag)\n",
        "*   user_id\n",
        "*   año (release_date)\n",
        "*   horas_jugadas(playtime_forever)"
      ]
    },
    {
      "cell_type": "code",
      "execution_count": null,
      "metadata": {
        "id": "AyteQS8TY5Tf"
      },
      "outputs": [],
      "source": [
        "usuarios_mas_jugados_por_genero = {}\n",
        "for genero in df_juegos['tag'].unique():\n",
        "    df_juegos_genero = df_juegos[df_juegos['tag'] == genero]\n",
        "    df_juegos_items = pd.merge(df_juegos_genero, df_items, on='item_id')\n",
        "    usuario_mas_jugado = df_juegos_items.groupby('user_id')['playtime_forever'].sum().idxmax()\n",
        "    usuarios_mas_jugados_por_genero[genero] = usuario_mas_jugado\n",
        "datos_salida = []\n",
        "for genero, usuario in usuarios_mas_jugados_por_genero.items():\n",
        "    df_usuario_genero = df_items[(df_items['user_id'] == usuario) & (df_items['item_id'].isin(df_juegos[df_juegos['tag'] == genero]['item_id']))]\n",
        "    for _, fila in df_usuario_genero.iterrows():\n",
        "        año = df_juegos[df_juegos['item_id'] == fila['item_id']]['release_date'].values[0]\n",
        "        horas_jugadas = fila['playtime_forever']\n",
        "        datos_salida.append([genero, usuario, año, horas_jugadas])\n",
        "df_UserForGenre = pd.DataFrame(datos_salida, columns=['genero', 'user_id', 'año', 'horas_jugadas'])\n",
        "print(df_UserForGenre)\n"
      ]
    },
    {
      "cell_type": "markdown",
      "metadata": {
        "id": "QHFYAPUV7zmX"
      },
      "source": [
        "### **df_UsersRecommend**"
      ]
    },
    {
      "cell_type": "markdown",
      "metadata": {
        "id": "1utTqxzuaSKu"
      },
      "source": [
        "Se crea un dataframe con los siguientes datos:\n",
        "*   año (release_date)\n",
        "*   puesto (dato calculado)\n",
        "*   juego (app_name)"
      ]
    },
    {
      "cell_type": "code",
      "execution_count": null,
      "metadata": {
        "id": "x3MxMs8876_p"
      },
      "outputs": [],
      "source": [
        "resultados = pd.DataFrame(columns=['año', 'puesto', 'juego'])\n",
        "años = df_juegos['release_date'].unique()\n",
        "for año in años:\n",
        "    juegos_año = df_juegos[df_juegos['release_date'] == año]\n",
        "    if juegos_año.empty:\n",
        "        continue\n",
        "    item_ids_año = juegos_año['item_id'].unique()\n",
        "    reseñas_año = df_reviews[df_reviews['item_id'].isin(item_ids_año)]\n",
        "    reseñas_positivas = reseñas_año[(reseñas_año['recommend'] == True) & (reseñas_año['sentiment_analysis'] >= 1)]\n",
        "    top_juegos = reseñas_positivas['item_id'].value_counts().head(3)\n",
        "    for i, (item_id, _) in enumerate(top_juegos.items(), start=1):\n",
        "        juego_nombre = df_juegos[df_juegos['item_id'] == item_id]['app_name'].iloc[0]\n",
        "        resultados = pd.concat([resultados, pd.DataFrame({'año': [año], 'puesto': [i], 'juego': [juego_nombre]})], ignore_index=True)\n",
        "        resultados = resultados[resultados['año'] != 2222]\n",
        "df_UsersRecommend = resultados\n"
      ]
    },
    {
      "cell_type": "markdown",
      "metadata": {
        "id": "IFS8a03L-qcI"
      },
      "source": [
        "### **df_UsersNotRecommend**"
      ]
    },
    {
      "cell_type": "markdown",
      "metadata": {
        "id": "LqhIq_chaf9x"
      },
      "source": [
        "Se crea un dataframe con los siguientes datos:\n",
        "*   año (release_date)\n",
        "*   puesto (dato calculado)\n",
        "*   juego (app_name)"
      ]
    },
    {
      "cell_type": "code",
      "execution_count": null,
      "metadata": {
        "id": "pEH2ViIlZFX6"
      },
      "outputs": [],
      "source": [
        "resultados = pd.DataFrame(columns=['año', 'puesto', 'juego'])\n",
        "años = df_juegos['release_date'].unique()\n",
        "for año in años:\n",
        "    juegos_año = df_juegos[df_juegos['release_date'] == año]\n",
        "    if juegos_año.empty:\n",
        "        continue\n",
        "    item_ids_año = juegos_año['item_id'].unique()\n",
        "    reseñas_año = df_reviews[df_reviews['item_id'].isin(item_ids_año)]\n",
        "    reseñas_no_recomendadas = reseñas_año[(reseñas_año['recommend'] == False) & (reseñas_año['sentiment_analysis'] == 0)]\n",
        "    top_juegos = reseñas_no_recomendadas['item_id'].value_counts().tail(3)\n",
        "    for i, (item_id, _) in enumerate(top_juegos.items(), start=1):\n",
        "        juego_nombre = df_juegos[df_juegos['item_id'] == item_id]['app_name'].iloc[0]\n",
        "        resultados = pd.concat([resultados, pd.DataFrame({'año': [año], 'puesto': [i], 'juego': [juego_nombre]})], ignore_index=True)\n",
        "resultados = resultados[resultados['año'] != 2222]\n",
        "df_UsersNotRecommend = resultados"
      ]
    },
    {
      "cell_type": "markdown",
      "metadata": {
        "id": "lxkqnlZz77ow"
      },
      "source": [
        "### **df_sentiment_analysis**"
      ]
    },
    {
      "cell_type": "markdown",
      "metadata": {
        "id": "qVUQKencahAg"
      },
      "source": [
        "Se crea un dataframe con los siguientes datos:\n",
        "*   año (release_date)\n",
        "*   categoría (positivo, neutral, negativo)\n",
        "*   cantidad (dato calculado)"
      ]
    },
    {
      "cell_type": "code",
      "execution_count": null,
      "metadata": {
        "id": "NVk7EA2i78mC"
      },
      "outputs": [],
      "source": [
        "categorias_sentimiento = {0: 'negativo', 1: 'neutral', 2: 'positivo'}\n",
        "df_juegos['release_date'] = pd.to_datetime(df_juegos['release_date'], format='%Y')\n",
        "df_juegos['año'] = df_juegos['release_date'].dt.year\n",
        "conteo_sentimiento = df_reviews.groupby(['item_id', 'sentiment_analysis']).size().reset_index(name='cantidad')\n",
        "conteo_sentimiento['categoria'] = conteo_sentimiento['sentiment_analysis'].map(categorias_sentimiento)\n",
        "conteo_sentimiento = pd.merge(conteo_sentimiento, df_juegos[['item_id', 'año']], on='item_id')\n",
        "conteo_final = conteo_sentimiento.groupby(['año', 'categoria']).agg({'cantidad': 'sum'}).reset_index()\n",
        "df_sentiment_analysis = conteo_final[conteo_final['año'] != 2222]\n",
        "print(df_sentiment_analysis.head(20))\n"
      ]
    },
    {
      "cell_type": "markdown",
      "metadata": {
        "id": "0RexfnhSZMkg"
      },
      "source": [
        "### **df_recomendacion_juego**"
      ]
    },
    {
      "cell_type": "markdown",
      "metadata": {
        "id": "WXQ7WheWaq3N"
      },
      "source": [
        "Se crea un dataframe con los siguientes datos:\n",
        "*   id_juego (item_id)\n",
        "*   nombre_juego (app_name)\n",
        "*   puesto (dato calculado)\n",
        "*   juego (app_name)"
      ]
    },
    {
      "cell_type": "code",
      "execution_count": null,
      "metadata": {
        "id": "w6fTx7VdZNFa"
      },
      "outputs": [],
      "source": [
        "utility_matrix = df_reviews.pivot_table(index='item_id', columns='user_id', values='sentiment_analysis', fill_value=0)\n",
        "item_similarity = cosine_similarity(utility_matrix.T)\n",
        "print(item_similarity)\n",
        "\n",
        "'''\n",
        "# Definir la función de recomendación de juego\n",
        "def recomendacion_juego(product_id):\n",
        "    # Obtener el índice del juego en la matriz de utilidad\n",
        "    game_index = df_reviews[df_reviews['item_id'] == product_id].index[0]\n",
        "    # Calcular la similitud del juego con todos los demás juegos\n",
        "    similarities = item_similarity[game_index]\n",
        "    # Obtener los índices de los juegos más similares (excluyendo el propio juego)\n",
        "    similar_games_indices = np.argsort(similarities)[::-1][1:6]\n",
        "    # Obtener los IDs de los juegos más similares\n",
        "    similar_games_ids = df_reviews.iloc[similar_games_indices]['item_id']\n",
        "    # Obtener los nombres de los juegos más similares\n",
        "    similar_games_names = df_juegos[df_juegos['item_id'].isin(similar_games_ids)]['app_name']\n",
        "    return similar_games_names.tolist()\n",
        "\n",
        "# Ejemplo de uso de la función de recomendación de juego\n",
        "print(recomendacion_juego(761140))\n",
        "'''\n"
      ]
    },
    {
      "cell_type": "markdown",
      "metadata": {
        "id": "wC8LoP0LZSH5"
      },
      "source": [
        "### **df_recomendacion_usuario**"
      ]
    },
    {
      "cell_type": "markdown",
      "metadata": {
        "id": "h6XiuClXbgPz"
      },
      "source": [
        "Se crea un dataframe con los siguientes datos:\n",
        "*   id_usuario (user_id)\n",
        "*   puesto (dato calculado)\n",
        "*   juego (app_name)"
      ]
    },
    {
      "cell_type": "code",
      "execution_count": null,
      "metadata": {
        "id": "W1ASTDNFZSjy"
      },
      "outputs": [],
      "source": [
        "utility_matrix = df_reviews.pivot_table(index='user_id', columns='item_id', values='sentiment_analysis', fill_value=0)\n",
        "user_similarity = cosine_similarity(utility_matrix)\n",
        "print(user_similarity)\n",
        "'''\n",
        "# Definir la función de recomendación de usuario\n",
        "def recomendacion_usuario(user_id):\n",
        "    # Obtener el índice del usuario en la matriz de utilidad\n",
        "    user_index = df_reviews[df_reviews['user_id'] == user_id].index[0]\n",
        "    # Calcular la similitud del usuario con todos los demás usuarios\n",
        "    similarities = user_similarity[user_index]\n",
        "    # Obtener los índices de los usuarios más similares (excluyendo el propio usuario)\n",
        "    similar_users_indices = np.argsort(similarities)[::-1][1:6]\n",
        "    # Obtener los IDs de los juegos preferidos por los usuarios similares\n",
        "    preferred_games_ids = utility_matrix.iloc[similar_users_indices].mean().sort_values(ascending=False).head(5).index\n",
        "    # Obtener los nombres de los juegos preferidos por los usuarios similares\n",
        "    preferred_games_names = df_juegos[df_juegos['item_id'].isin(preferred_games_ids)]['app_name']\n",
        "    return preferred_games_names.tolist()\n",
        "\n",
        "# Ejemplo de uso de la función de recomendación de usuario\n",
        "print(recomendacion_usuario('76561197970982479'))\n",
        "'''"
      ]
    },
    {
      "cell_type": "markdown",
      "metadata": {
        "id": "BuIu0BOpunYj"
      },
      "source": [
        "# **Exportación de datos en formato csv**"
      ]
    },
    {
      "cell_type": "code",
      "execution_count": null,
      "metadata": {
        "id": "fk8E4tAdutBz"
      },
      "outputs": [],
      "source": [
        "df_PlayTimeGenre.to_csv('PlayTimeGenre.csv', index=False, header=True)\n",
        "df_UserForGenre.to_csv('UserForGenre.csv', index=False, header=True)\n",
        "df_UsersRecommend.to_csv('UsersRecommend.csv', index=False, header=True)\n",
        "df_UsersNotRecommend.to_csv('UsersNotRecommend.csv', index=False, header=True)\n",
        "df_sentiment_analysis.to_csv('sentiment_analysis.csv', index=False, header=True)\n",
        "df_recomendacion_juego.to_csv('recommendacion_juego.csv', index=False, header=True)\n",
        "df_recomendacion_usuario.to_csv('recommendacion_usuario.csv', index=False, header=True)"
      ]
    }
  ],
  "metadata": {
    "colab": {
      "collapsed_sections": [
        "VgEtqGk9RTzZ",
        "adYrdmAlozuJ",
        "FCwc6rkpdJF7",
        "rnmCgR0FmIAa",
        "dPUFfOXFLIy6",
        "v2zwOQK2thXf",
        "YTd94GvEiaWH",
        "IHs37EXMOI1W",
        "bd6_sDw27KWP",
        "rk_uXkx1RSSc",
        "S2RJFwToU1wE",
        "4OMNFsiRU9dO",
        "B3aM3xP6U_iU",
        "AMvnjCucAr7z",
        "HXphVOL6YoN6",
        "rqLesdXuY1a9",
        "QHFYAPUV7zmX",
        "IFS8a03L-qcI",
        "lxkqnlZz77ow"
      ],
      "provenance": []
    },
    "kernelspec": {
      "display_name": "Python 3",
      "name": "python3"
    },
    "language_info": {
      "name": "python"
    }
  },
  "nbformat": 4,
  "nbformat_minor": 0
}